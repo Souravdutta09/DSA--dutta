{
 "cells": [
  {
   "cell_type": "code",
   "execution_count": 1,
   "id": "6700a01f-39c5-42a8-922c-9c6834d79de0",
   "metadata": {},
   "outputs": [],
   "source": [
    "import pandas as pd\n",
    "import numpy as np\n",
    "df = pd.read_csv('Employee_Salary.csv')"
   ]
  },
  {
   "cell_type": "code",
   "execution_count": 2,
   "id": "43f59e6e-4107-475e-b48a-9eb22009c08a",
   "metadata": {},
   "outputs": [
    {
     "name": "stdout",
     "output_type": "stream",
     "text": [
      "Information of Dataset:\n",
      " <bound method DataFrame.info of     ID  Experience  Age  Gender    Salary\n",
      "0    1         5.0   28  Female    250000\n",
      "1    2         1.0   21    Male     50000\n",
      "2    3         3.0   23  Female    170000\n",
      "3    4         2.0   22    Male     25000\n",
      "4    5         1.0   17    Male     10000\n",
      "5    6        25.0   62    Male   5001000\n",
      "6    7        19.0   54  Female    800000\n",
      "7    8         2.0   21  Female      9000\n",
      "8    9        10.0   36  Female     61500\n",
      "9   10        15.0   54  Female    650000\n",
      "10  11         4.0   26  Female    250000\n",
      "11  12         6.0   29    Male   1400000\n",
      "12  13        14.0   39    Male   6000050\n",
      "13  14         NaN   40    Male    220100\n",
      "14  15         2.0   23    Male      7500\n",
      "15  16         4.0   27     NaN     87000\n",
      "16  17        10.0   34  Female    930000\n",
      "17  18        15.0   54  Female   7900000\n",
      "18  19         2.0   21    Male     15000\n",
      "19  20        10.0   36    Male    330000\n",
      "20  21        15.0   54    Male   6570000\n",
      "21  22         4.0   26    Male     25000\n",
      "22  23         5.0   29    Male   6845000\n",
      "23  24         1.0   21  Female      6000\n",
      "24  25         4.0   23  Female      8900\n",
      "25  26         3.0   22  Female     20000\n",
      "26  27         1.0   18    Male      3000\n",
      "27  28        27.0   62  Female  10000000\n",
      "28  29        19.0   54  Female   5000000\n",
      "29  30         2.0   21  Female      6100\n",
      "30  31        10.0   34    Male     80000\n",
      "31  32        15.0   54    Male    900000\n",
      "32  33        20.0   55  Female   1540000\n",
      "33  34        19.0   53  Female   9300000\n",
      "34  35        16.0   49    Male   7600000>\n",
      "Shape of Dataset (row x column):  (35, 5)\n",
      "Columns Name:  Index(['ID', 'Experience', 'Age', 'Gender', 'Salary'], dtype='object')\n",
      "Total elements in dataset: 175\n",
      "Datatype of attributes (columns): ID              int64\n",
      "Experience    float64\n",
      "Age             int64\n",
      "Gender         object\n",
      "Salary          int64\n",
      "dtype: object\n",
      "First 5 rows:\n",
      "                  0      1       2      3      4\n",
      "ID               1      2       3      4      5\n",
      "Experience     5.0    1.0     3.0    2.0    1.0\n",
      "Age             28     21      23     22     17\n",
      "Gender      Female   Male  Female   Male   Male\n",
      "Salary      250000  50000  170000  25000  10000\n",
      "Last 5 rows:\n",
      "                30      31       32       33       34\n",
      "ID             31      32       33       34       35\n",
      "Experience   10.0    15.0     20.0     19.0     16.0\n",
      "Age            34      54       55       53       49\n",
      "Gender       Male    Male   Female   Female     Male\n",
      "Salary      80000  900000  1540000  9300000  7600000\n",
      "Any 5 rows:\n",
      "                 25     30      19     18     4 \n",
      "ID              26     31      20     19      5\n",
      "Experience     3.0   10.0    10.0    2.0    1.0\n",
      "Age             22     34      36     21     17\n",
      "Gender      Female   Male    Male   Male   Male\n",
      "Salary       20000  80000  330000  15000  10000\n"
     ]
    }
   ],
   "source": [
    "print('Information of Dataset:\\n', df.info)\n",
    "print('Shape of Dataset (row x column): ', df.shape)\n",
    "print('Columns Name: ', df.columns)\n",
    "print('Total elements in dataset:', df.size)\n",
    "print('Datatype of attributes (columns):', df.dtypes)\n",
    "print('First 5 rows:\\n', df.head().T)\n",
    "print('Last 5 rows:\\n',df.tail().T)\n",
    "print('Any 5 rows:\\n',df.sample(5).T)"
   ]
  },
  {
   "cell_type": "code",
   "execution_count": 3,
   "id": "7b3e7fdd-d372-4138-a85f-906f95f7b395",
   "metadata": {},
   "outputs": [
    {
     "data": {
      "text/plain": [
       "ID            0\n",
       "Experience    1\n",
       "Age           0\n",
       "Gender        1\n",
       "Salary        0\n",
       "dtype: int64"
      ]
     },
     "execution_count": 3,
     "metadata": {},
     "output_type": "execute_result"
    }
   ],
   "source": [
    "df.isna().sum()"
   ]
  },
  {
   "cell_type": "code",
   "execution_count": 5,
   "id": "04e322b8-1014-4db0-9515-0c6f29d01504",
   "metadata": {},
   "outputs": [
    {
     "name": "stderr",
     "output_type": "stream",
     "text": [
      "C:\\Users\\dutta\\AppData\\Local\\Temp\\ipykernel_24140\\445394033.py:1: FutureWarning: A value is trying to be set on a copy of a DataFrame or Series through chained assignment using an inplace method.\n",
      "The behavior will change in pandas 3.0. This inplace method will never work because the intermediate object on which we are setting values always behaves as a copy.\n",
      "\n",
      "For example, when doing 'df[col].method(value, inplace=True)', try using 'df.method({col: value}, inplace=True)' or df[col] = df[col].method(value) instead, to perform the operation inplace on the original object.\n",
      "\n",
      "\n",
      "  df['Experience'].fillna(df['Experience'].mean(),inplace=True)\n"
     ]
    }
   ],
   "source": [
    "df['Experience'].fillna(df['Experience'].mean(),inplace=True)"
   ]
  },
  {
   "cell_type": "code",
   "execution_count": 6,
   "id": "7b493e2d-b825-450e-a6ba-a13d03b6ac33",
   "metadata": {},
   "outputs": [
    {
     "name": "stderr",
     "output_type": "stream",
     "text": [
      "C:\\Users\\dutta\\AppData\\Local\\Temp\\ipykernel_24140\\3818145922.py:1: FutureWarning: A value is trying to be set on a copy of a DataFrame or Series through chained assignment using an inplace method.\n",
      "The behavior will change in pandas 3.0. This inplace method will never work because the intermediate object on which we are setting values always behaves as a copy.\n",
      "\n",
      "For example, when doing 'df[col].method(value, inplace=True)', try using 'df.method({col: value}, inplace=True)' or df[col] = df[col].method(value) instead, to perform the operation inplace on the original object.\n",
      "\n",
      "\n",
      "  df['Gender'].fillna(df['Gender'].mode()[0],inplace = True )\n"
     ]
    }
   ],
   "source": [
    "df['Gender'].fillna(df['Gender'].mode()[0],inplace = True )"
   ]
  },
  {
   "cell_type": "code",
   "execution_count": 7,
   "id": "c8fd0c37-4d56-4add-b896-b07e7eaabb0f",
   "metadata": {},
   "outputs": [
    {
     "data": {
      "text/plain": [
       "ID            0\n",
       "Experience    0\n",
       "Age           0\n",
       "Gender        0\n",
       "Salary        0\n",
       "dtype: int64"
      ]
     },
     "execution_count": 7,
     "metadata": {},
     "output_type": "execute_result"
    }
   ],
   "source": [
    "df.isna().sum()"
   ]
  },
  {
   "cell_type": "code",
   "execution_count": 8,
   "id": "7621b553-de45-4590-a044-2f8fdb1d0862",
   "metadata": {},
   "outputs": [
    {
     "data": {
      "text/html": [
       "<div>\n",
       "<style scoped>\n",
       "    .dataframe tbody tr th:only-of-type {\n",
       "        vertical-align: middle;\n",
       "    }\n",
       "\n",
       "    .dataframe tbody tr th {\n",
       "        vertical-align: top;\n",
       "    }\n",
       "\n",
       "    .dataframe thead th {\n",
       "        text-align: right;\n",
       "    }\n",
       "</style>\n",
       "<table border=\"1\" class=\"dataframe\">\n",
       "  <thead>\n",
       "    <tr style=\"text-align: right;\">\n",
       "      <th></th>\n",
       "      <th>ID</th>\n",
       "      <th>Experience</th>\n",
       "      <th>Age</th>\n",
       "      <th>Gender</th>\n",
       "      <th>Salary</th>\n",
       "    </tr>\n",
       "  </thead>\n",
       "  <tbody>\n",
       "    <tr>\n",
       "      <th>0</th>\n",
       "      <td>1</td>\n",
       "      <td>5.0</td>\n",
       "      <td>28</td>\n",
       "      <td>Female</td>\n",
       "      <td>250000</td>\n",
       "    </tr>\n",
       "    <tr>\n",
       "      <th>1</th>\n",
       "      <td>2</td>\n",
       "      <td>1.0</td>\n",
       "      <td>21</td>\n",
       "      <td>Male</td>\n",
       "      <td>50000</td>\n",
       "    </tr>\n",
       "    <tr>\n",
       "      <th>2</th>\n",
       "      <td>3</td>\n",
       "      <td>3.0</td>\n",
       "      <td>23</td>\n",
       "      <td>Female</td>\n",
       "      <td>170000</td>\n",
       "    </tr>\n",
       "    <tr>\n",
       "      <th>3</th>\n",
       "      <td>4</td>\n",
       "      <td>2.0</td>\n",
       "      <td>22</td>\n",
       "      <td>Male</td>\n",
       "      <td>25000</td>\n",
       "    </tr>\n",
       "    <tr>\n",
       "      <th>4</th>\n",
       "      <td>5</td>\n",
       "      <td>1.0</td>\n",
       "      <td>17</td>\n",
       "      <td>Male</td>\n",
       "      <td>10000</td>\n",
       "    </tr>\n",
       "  </tbody>\n",
       "</table>\n",
       "</div>"
      ],
      "text/plain": [
       "   ID  Experience  Age  Gender  Salary\n",
       "0   1         5.0   28  Female  250000\n",
       "1   2         1.0   21    Male   50000\n",
       "2   3         3.0   23  Female  170000\n",
       "3   4         2.0   22    Male   25000\n",
       "4   5         1.0   17    Male   10000"
      ]
     },
     "execution_count": 8,
     "metadata": {},
     "output_type": "execute_result"
    }
   ],
   "source": [
    "df.head()\n"
   ]
  },
  {
   "cell_type": "code",
   "execution_count": 9,
   "id": "65d28319-cfd0-422f-90b2-6f3f6f4a1792",
   "metadata": {},
   "outputs": [
    {
     "name": "stdout",
     "output_type": "stream",
     "text": [
      "groupwise information\n",
      "------------Experience-----------\n"
     ]
    },
    {
     "data": {
      "text/html": [
       "<div>\n",
       "<style scoped>\n",
       "    .dataframe tbody tr th:only-of-type {\n",
       "        vertical-align: middle;\n",
       "    }\n",
       "\n",
       "    .dataframe tbody tr th {\n",
       "        vertical-align: top;\n",
       "    }\n",
       "\n",
       "    .dataframe thead th {\n",
       "        text-align: right;\n",
       "    }\n",
       "</style>\n",
       "<table border=\"1\" class=\"dataframe\">\n",
       "  <thead>\n",
       "    <tr style=\"text-align: right;\">\n",
       "      <th></th>\n",
       "      <th>count</th>\n",
       "      <th>mean</th>\n",
       "      <th>std</th>\n",
       "      <th>min</th>\n",
       "      <th>25%</th>\n",
       "      <th>50%</th>\n",
       "      <th>75%</th>\n",
       "      <th>max</th>\n",
       "    </tr>\n",
       "    <tr>\n",
       "      <th>Gender</th>\n",
       "      <th></th>\n",
       "      <th></th>\n",
       "      <th></th>\n",
       "      <th></th>\n",
       "      <th></th>\n",
       "      <th></th>\n",
       "      <th></th>\n",
       "      <th></th>\n",
       "    </tr>\n",
       "  </thead>\n",
       "  <tbody>\n",
       "    <tr>\n",
       "      <th>Female</th>\n",
       "      <td>18.0</td>\n",
       "      <td>10.111111</td>\n",
       "      <td>8.123234</td>\n",
       "      <td>1.0</td>\n",
       "      <td>3.25</td>\n",
       "      <td>7.5</td>\n",
       "      <td>18.0</td>\n",
       "      <td>27.0</td>\n",
       "    </tr>\n",
       "    <tr>\n",
       "      <th>Male</th>\n",
       "      <td>17.0</td>\n",
       "      <td>8.126298</td>\n",
       "      <td>6.982320</td>\n",
       "      <td>1.0</td>\n",
       "      <td>2.00</td>\n",
       "      <td>6.0</td>\n",
       "      <td>14.0</td>\n",
       "      <td>25.0</td>\n",
       "    </tr>\n",
       "  </tbody>\n",
       "</table>\n",
       "</div>"
      ],
      "text/plain": [
       "        count       mean       std  min   25%  50%   75%   max\n",
       "Gender                                                        \n",
       "Female   18.0  10.111111  8.123234  1.0  3.25  7.5  18.0  27.0\n",
       "Male     17.0   8.126298  6.982320  1.0  2.00  6.0  14.0  25.0"
      ]
     },
     "execution_count": 9,
     "metadata": {},
     "output_type": "execute_result"
    }
   ],
   "source": [
    "print(\"groupwise information\")\n",
    "print(\"------------Experience-----------\")\n",
    "df['Experience'].groupby(df['Gender']).describe()"
   ]
  },
  {
   "cell_type": "code",
   "execution_count": null,
   "id": "d555a72f-8f12-4beb-8848-f71efc484340",
   "metadata": {},
   "outputs": [],
   "source": [
    "print(\"-----------------Age---------------\")\n",
    "df[\n"
   ]
  }
 ],
 "metadata": {
  "kernelspec": {
   "display_name": "Python 3 (ipykernel)",
   "language": "python",
   "name": "python3"
  },
  "language_info": {
   "codemirror_mode": {
    "name": "ipython",
    "version": 3
   },
   "file_extension": ".py",
   "mimetype": "text/x-python",
   "name": "python",
   "nbconvert_exporter": "python",
   "pygments_lexer": "ipython3",
   "version": "3.13.1"
  }
 },
 "nbformat": 4,
 "nbformat_minor": 5
}
